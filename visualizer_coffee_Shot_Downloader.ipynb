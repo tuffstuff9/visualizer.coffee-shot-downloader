{
  "nbformat": 4,
  "nbformat_minor": 0,
  "metadata": {
    "colab": {
      "provenance": []
    },
    "kernelspec": {
      "name": "python3",
      "display_name": "Python 3"
    },
    "language_info": {
      "name": "python"
    }
  },
  "cells": [
    {
      "cell_type": "markdown",
      "source": [
        "# Installing packages and imports"
      ],
      "metadata": {
        "id": "AGoKmdjYkT8H"
      }
    },
    {
      "cell_type": "code",
      "execution_count": null,
      "metadata": {
        "id": "8oqTEArOjiko"
      },
      "outputs": [],
      "source": [
        "!pip install aiohttp\n",
        "!pip install nest-asyncio"
      ]
    },
    {
      "cell_type": "code",
      "source": [
        "import requests\n",
        "import aiohttp\n",
        "import asyncio\n",
        "import nest_asyncio\n",
        "import os\n",
        "import json\n",
        "import pandas as pd"
      ],
      "metadata": {
        "id": "ZHUnvMflkZwH"
      },
      "execution_count": 11,
      "outputs": []
    },
    {
      "cell_type": "markdown",
      "source": [
        "# User authentication"
      ],
      "metadata": {
        "id": "0W0AaAq7ka1n"
      }
    },
    {
      "cell_type": "markdown",
      "source": [
        "Modify the below code to include your details. This is required for authentication."
      ],
      "metadata": {
        "id": "gdIUn9BikhF4"
      }
    },
    {
      "cell_type": "code",
      "source": [
        "email = 'example@email.com'\n",
        "password = 'password'"
      ],
      "metadata": {
        "id": "NXjVG23vkl7W"
      },
      "execution_count": 1,
      "outputs": []
    },
    {
      "cell_type": "markdown",
      "source": [
        "# Getting the shot IDs"
      ],
      "metadata": {
        "id": "Kr_6JLj0k4WS"
      }
    },
    {
      "cell_type": "code",
      "source": [
        "def get_private_shot_ids(auth):\n",
        "    url = 'https://visualizer.coffee/api/shots/'\n",
        "    params = {\n",
        "        'page': 1,\n",
        "        'items': 100\n",
        "    }\n",
        "\n",
        "    ids = []  # Array to store the IDs\n",
        "\n",
        "    while True:\n",
        "        response = requests.get(url, params=params, auth=auth)\n",
        "\n",
        "        if response.status_code == 200:\n",
        "            shots_data = response.json()\n",
        "            shots = shots_data['data']\n",
        "\n",
        "            if len(shots) == 0:\n",
        "                break  # Break the loop if there is no data\n",
        "\n",
        "            # Extract and store the IDs\n",
        "            for shot in shots:\n",
        "                ids.append(shot['id'])\n",
        "\n",
        "            # Update the page number for the next request\n",
        "            params['page'] += 1\n",
        "\n",
        "        else:\n",
        "            print(f\"Request failed with status code {response.status_code}\")\n",
        "            break\n",
        "\n",
        "    return ids\n",
        "\n",
        "auth = (email, password)\n",
        "shot_ids = get_private_shot_ids(auth)\n",
        "\n",
        "# The number of shots printed shuold match the number\n",
        "# on your visualizer.coffee/shots\n",
        "print(f\"Total number of IDs: {len(shot_ids)}\")\n"
      ],
      "metadata": {
        "id": "reIJhT-ClA2B"
      },
      "execution_count": null,
      "outputs": []
    },
    {
      "cell_type": "markdown",
      "source": [
        "# Using the IDs to get the shot data"
      ],
      "metadata": {
        "id": "ChcA67g9m609"
      }
    },
    {
      "cell_type": "code",
      "source": [
        "\n",
        "async def get_shot_data(session, shot_id):\n",
        "    # Construct the URL using the shot_id\n",
        "    url = f'https://visualizer.coffee/api/shots/{shot_id}/download?essentials='\n",
        "\n",
        "    # Send an HTTP GET request to the URL using the session\n",
        "    async with session.get(url) as response:\n",
        "        # Check if the request was successful (status code 200)\n",
        "        if response.status == 200:\n",
        "            # If successful, extract the JSON data from the response\n",
        "            shot_data = await response.json()\n",
        "            return shot_data\n",
        "        else:\n",
        "            # If the request failed, print an error message with the status code\n",
        "            print(f\"Request failed with status code {response.status}\")\n",
        "            return None\n",
        "\n",
        "async def get_all_shot_data(shot_ids):\n",
        "    # Create a new HTTP session using aiohttp\n",
        "    async with aiohttp.ClientSession() as session:\n",
        "        # Create a list of tasks to fetch shot data for each shot_id\n",
        "        tasks = [get_shot_data(session, shot_id) for shot_id in shot_ids]\n",
        "\n",
        "        # Use asyncio.gather to run all the tasks concurrently\n",
        "        shots_data = await asyncio.gather(*tasks)\n",
        "\n",
        "    # Return the list of shot data\n",
        "    return shots_data\n"
      ],
      "metadata": {
        "id": "8zZAG8qxlVzB"
      },
      "execution_count": 6,
      "outputs": []
    },
    {
      "cell_type": "code",
      "source": [
        "# This allows running asyncio in a Jupyter Notebook or similar environment\n",
        "nest_asyncio.apply()\n",
        "\n",
        "# Execute the get_all_shot_data function and store the result in shots_data\n",
        "shots_data = asyncio.run(get_all_shot_data(shot_ids))"
      ],
      "metadata": {
        "id": "-xUUd2nUlo4F"
      },
      "execution_count": 7,
      "outputs": []
    },
    {
      "cell_type": "markdown",
      "source": [
        "# Downloading each shot as a json file"
      ],
      "metadata": {
        "id": "JGBLerBKnASo"
      }
    },
    {
      "cell_type": "code",
      "source": [
        "def download_shots_as_json(shots_data):\n",
        "    # Create a new folder called \"shots\" in the current directory\n",
        "    os.makedirs(\"shots\", exist_ok=True)\n",
        "\n",
        "    # Iterate over the shots_data array and save each element as a JSON file\n",
        "    for shot_data in shots_data:\n",
        "        # Extract the profile ID from the shot_data\n",
        "        profile_id = shot_data[\"id\"]\n",
        "\n",
        "        # Generate the file path for the JSON file\n",
        "        file_path = f\"shots/{profile_id}.json\"\n",
        "\n",
        "        # Write the shot_data as JSON to the file\n",
        "        with open(file_path, \"w\") as file:\n",
        "            json.dump(shot_data, file)\n",
        "\n",
        "# Execute the get_all_shot_data function and store the result in shots_data\n",
        "shots_data = asyncio.run(get_all_shot_data(shot_ids))\n",
        "\n",
        "# Call the download_shots_as_json function to save the data as JSON files\n",
        "download_shots_as_json(shots_data)"
      ],
      "metadata": {
        "id": "uvPDvNdvmn35"
      },
      "execution_count": 12,
      "outputs": []
    }
  ]
}